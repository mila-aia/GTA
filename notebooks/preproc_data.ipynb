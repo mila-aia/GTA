{
 "cells": [
  {
   "cell_type": "code",
   "execution_count": 1,
   "id": "f5029135",
   "metadata": {},
   "outputs": [],
   "source": [
    "from pathlib import Path\n",
    "import numpy as np\n",
    "import pickle"
   ]
  },
  {
   "cell_type": "code",
   "execution_count": 2,
   "id": "0608a5a3",
   "metadata": {},
   "outputs": [],
   "source": [
    "src_dir = Path(\"../data/SMAP_orig/\").resolve()\n",
    "dst_dir = Path(\"../data/SMAP/\").resolve()\n",
    "dst_dir.mkdir(exist_ok=True)"
   ]
  },
  {
   "cell_type": "code",
   "execution_count": 3,
   "id": "262f1c4a",
   "metadata": {},
   "outputs": [
    {
     "name": "stdout",
     "output_type": "stream",
     "text": [
      "(135183, 25)\n",
      "(427617, 25)\n",
      "(427617,)\n"
     ]
    }
   ],
   "source": [
    "for src_file in [\"SMAP_train.npy\", \"SMAP_test.npy\", \"SMAP_test_label.npy\"]:\n",
    "    \n",
    "    data = np.load(src_dir/src_file)\n",
    "    print(data.shape)    \n",
    "    \n",
    "    dst_file = dst_dir/src_file.replace(\".npy\", \".pkl\")\n",
    "    with open(dst_file,'wb') as f:\n",
    "        pickle.dump(data, f)"
   ]
  },
  {
   "cell_type": "code",
   "execution_count": 4,
   "id": "1c188451",
   "metadata": {},
   "outputs": [],
   "source": [
    "src_dir = Path(\"../data/MSL_orig/\").resolve()\n",
    "dst_dir = Path(\"../data/MSL/\").resolve()\n",
    "dst_dir.mkdir(exist_ok=True)"
   ]
  },
  {
   "cell_type": "code",
   "execution_count": 5,
   "id": "ed6e67ac",
   "metadata": {},
   "outputs": [
    {
     "name": "stdout",
     "output_type": "stream",
     "text": [
      "(58317, 55)\n",
      "(73729, 55)\n",
      "(73729,)\n"
     ]
    }
   ],
   "source": [
    "for src_file in [\"MSL_train.npy\", \"MSL_test.npy\", \"MSL_test_label.npy\"]:\n",
    "    \n",
    "    data = np.load(src_dir/src_file)\n",
    "    print(data.shape)    \n",
    "    \n",
    "    dst_file = dst_dir/src_file.replace(\".npy\", \".pkl\")\n",
    "    with open(dst_file,'wb') as f:\n",
    "        pickle.dump(data, f)"
   ]
  }
 ],
 "metadata": {
  "kernelspec": {
   "display_name": "Python 3 (ipykernel)",
   "language": "python",
   "name": "python3"
  },
  "language_info": {
   "codemirror_mode": {
    "name": "ipython",
    "version": 3
   },
   "file_extension": ".py",
   "mimetype": "text/x-python",
   "name": "python",
   "nbconvert_exporter": "python",
   "pygments_lexer": "ipython3",
   "version": "3.10.9"
  }
 },
 "nbformat": 4,
 "nbformat_minor": 5
}
